{
  "nbformat": 4,
  "nbformat_minor": 0,
  "metadata": {
    "colab": {
      "provenance": [],
      "authorship_tag": "ABX9TyOsjnlXKznNmqeTYlI2OW75",
      "include_colab_link": true
    },
    "kernelspec": {
      "name": "python3",
      "display_name": "Python 3"
    },
    "language_info": {
      "name": "python"
    }
  },
  "cells": [
    {
      "cell_type": "markdown",
      "metadata": {
        "id": "view-in-github",
        "colab_type": "text"
      },
      "source": [
        "<a href=\"https://colab.research.google.com/github/Lusic12/ML_HK241/blob/main/linear_regression.ipynb\" target=\"_parent\"><img src=\"https://colab.research.google.com/assets/colab-badge.svg\" alt=\"Open In Colab\"/></a>"
      ]
    },
    {
      "cell_type": "code",
      "source": [
        "import numpy as np"
      ],
      "metadata": {
        "id": "qpu3_W5CvttI"
      },
      "execution_count": null,
      "outputs": []
    },
    {
      "cell_type": "code",
      "source": [
        "X=np.array([155,180,164,162,181,182,173,190,171,170,181,182,189,184,209,210])\n",
        "Y=np.array([51,52,54,53,55,59,61,59,63,76,64,66,69,72,70,80])"
      ],
      "metadata": {
        "id": "4Z52xOLKwnTj"
      },
      "execution_count": null,
      "outputs": []
    },
    {
      "cell_type": "code",
      "source": [
        "X_old=np.array([155,180,164,162,181,182,173,190,171,170,181,182,189,184,209,210])\n"
      ],
      "metadata": {
        "id": "bU4cW38e5wEQ"
      },
      "execution_count": null,
      "outputs": []
    },
    {
      "cell_type": "code",
      "source": [
        "X_old=min_max_scale(X_old)"
      ],
      "metadata": {
        "id": "usIljrjy5yhZ"
      },
      "execution_count": null,
      "outputs": []
    },
    {
      "cell_type": "code",
      "source": [
        "\n",
        "def min_max_scale(X):\n",
        "    \"\"\"\n",
        "    Chuẩn hóa dữ liệu từ 0 đến 1 bằng phương pháp Min-Max Scaling\n",
        "\n",
        "    X: numpy array - Dữ liệu cần chuẩn hóa\n",
        "\n",
        "    Returns:\n",
        "    X_scaled: numpy array - Dữ liệu sau khi chuẩn hóa\n",
        "    \"\"\"\n",
        "    X_min = np.min(X, axis=0)  # Tính giá trị nhỏ nhất của từng đặc trưng\n",
        "    X_max = np.max(X, axis=0)  # Tính giá trị lớn nhất của từng đặc trưng\n",
        "    X_scaled = (X - X_min) / (X_max - X_min)  # Áp dụng Min-Max Scaling\n",
        "    return X_scaled"
      ],
      "metadata": {
        "id": "84rgjuTa13vq"
      },
      "execution_count": null,
      "outputs": []
    },
    {
      "cell_type": "code",
      "source": [
        "X=min_max_scale(X)\n",
        "Y=min_max_scale(Y)"
      ],
      "metadata": {
        "id": "JBQMLwlU2D-J"
      },
      "execution_count": null,
      "outputs": []
    },
    {
      "cell_type": "code",
      "source": [
        "print(X)\n",
        "print(Y)"
      ],
      "metadata": {
        "colab": {
          "base_uri": "https://localhost:8080/"
        },
        "id": "X5TnliZ43WbB",
        "outputId": "19858db2-fea7-470f-85e1-5a220d54e779"
      },
      "execution_count": null,
      "outputs": [
        {
          "output_type": "stream",
          "name": "stdout",
          "text": [
            "[0.         0.45454545 0.16363636 0.12727273 0.47272727 0.49090909\n",
            " 0.32727273 0.63636364 0.29090909 0.27272727 0.47272727 0.49090909\n",
            " 0.61818182 0.52727273 0.98181818 1.        ]\n",
            "[0.         0.03448276 0.10344828 0.06896552 0.13793103 0.27586207\n",
            " 0.34482759 0.27586207 0.4137931  0.86206897 0.44827586 0.51724138\n",
            " 0.62068966 0.72413793 0.65517241 1.        ]\n"
          ]
        }
      ]
    },
    {
      "cell_type": "code",
      "execution_count": null,
      "metadata": {
        "id": "D8hy7oZ2vcPl"
      },
      "outputs": [],
      "source": [
        "def initialize_theta(n):\n",
        "    \"\"\"\n",
        "    Khởi tạo ngẫu nhiên vector theta với n+1 giá trị (bao gồm cả bias)\n",
        "\n",
        "    n: số lượng đặc trưng (features) trong dữ liệu\n",
        "\n",
        "    Returns:\n",
        "    numpy array: Vector theta ngẫu nhiên có kích thước (n+1,)\n",
        "    \"\"\"\n",
        "    np.random.seed(0)  # Để đảm bảo kết quả tái lập (tuỳ chọn)\n",
        "    theta = np.random.randn(n + 1)  # Khởi tạo ngẫu nhiên vector theta với kích thước n+1\n",
        "    return theta"
      ]
    },
    {
      "cell_type": "code",
      "source": [
        "theta=initialize_theta(n=1)\n",
        "print(theta)"
      ],
      "metadata": {
        "colab": {
          "base_uri": "https://localhost:8080/"
        },
        "id": "E3YHFJ2Lvnua",
        "outputId": "6473cd6c-ab02-4291-db10-a46ace4c3c87"
      },
      "execution_count": null,
      "outputs": [
        {
          "output_type": "stream",
          "name": "stdout",
          "text": [
            "[1.76405235 0.40015721]\n"
          ]
        }
      ]
    },
    {
      "cell_type": "code",
      "source": [
        "X = X.reshape(-1, 1)\n",
        "m=X.shape[0]\n",
        "ones=np.ones((m,1))\n",
        "X=np.concatenate((ones,X),axis=1)\n",
        "print(X)"
      ],
      "metadata": {
        "colab": {
          "base_uri": "https://localhost:8080/"
        },
        "id": "046fcsxgv_pf",
        "outputId": "39cfde7f-c4e7-4dfd-e0b5-3e9dcdfb0a15"
      },
      "execution_count": null,
      "outputs": [
        {
          "output_type": "stream",
          "name": "stdout",
          "text": [
            "[[1.         0.        ]\n",
            " [1.         0.45454545]\n",
            " [1.         0.16363636]\n",
            " [1.         0.12727273]\n",
            " [1.         0.47272727]\n",
            " [1.         0.49090909]\n",
            " [1.         0.32727273]\n",
            " [1.         0.63636364]\n",
            " [1.         0.29090909]\n",
            " [1.         0.27272727]\n",
            " [1.         0.47272727]\n",
            " [1.         0.49090909]\n",
            " [1.         0.61818182]\n",
            " [1.         0.52727273]\n",
            " [1.         0.98181818]\n",
            " [1.         1.        ]]\n"
          ]
        }
      ]
    },
    {
      "cell_type": "code",
      "source": [
        "# Dự đoán y_hat dựa trên x và theta\n",
        "def predict(x, theta):\n",
        "    return np.dot(x, theta)\n",
        "\n",
        "# Hàm tính chi phí (Mean Squared Error)\n",
        "def cost(y, y_hat, m):\n",
        "    return (1 / (2 * m)) * np.sum((y - y_hat) ** 2)\n",
        "\n",
        "# Hàm tính gradient\n",
        "def gradient(y, y_hat, x, m):\n",
        "    grad = (1 / m) * np.dot(x.T, (y_hat - y))  # Gradient trung bình nhân với X\n",
        "    return grad"
      ],
      "metadata": {
        "id": "DWjdVWnWwepC"
      },
      "execution_count": null,
      "outputs": []
    },
    {
      "cell_type": "code",
      "source": [
        "learning_rate = 0.001\n",
        "num_iterations = 1000\n",
        "epsilon = 1e-6  # Điều kiện dừng sớm (ngưỡng thay đổi chi phí)\n",
        "\n",
        "\n",
        "# Vòng lặp huấn luyện với dừng sớm\n",
        "previous_cost = float('inf')  # Khởi tạo chi phí trước với giá trị vô hạn\n",
        "\n",
        "for i in range(num_iterations):\n",
        "    y_hat = predict(X, theta)  # Dự đoán\n",
        "    cost_value = cost(Y, y_hat, m)  # Tính chi phí\n",
        "    grad = gradient(Y, y_hat, X, m)  # Tính gradient\n",
        "    theta = theta - learning_rate * grad  # Cập nhật theta\n",
        "\n",
        "    # In chi phí sau mỗi 10 vòng lặp\n",
        "    if i % 10 == 0:\n",
        "        print(f\"Iteration {i+1}: Cost = {cost_value}\")\n",
        "\n",
        "    # Kiểm tra điều kiện dừng sớm\n",
        "    if abs(previous_cost - cost_value) < epsilon:\n",
        "        print(f\"Early stopping at iteration {i+1}, Cost = {cost_value}\")\n",
        "        break\n",
        "\n",
        "    previous_cost = cost_value  # Cập nhật chi phí trước cho vòng lặp tiếp theo\n",
        "\n",
        "print(\"Theta (parameters):\", theta)"
      ],
      "metadata": {
        "colab": {
          "base_uri": "https://localhost:8080/"
        },
        "id": "cFLyO9Kby4Fk",
        "outputId": "358e0499-96e9-4832-a3d3-edeaecac9359"
      },
      "execution_count": null,
      "outputs": [
        {
          "output_type": "stream",
          "name": "stdout",
          "text": [
            "Iteration 1: Cost = 0.02629256027057542\n",
            "Early stopping at iteration 2, Cost = 0.026292560261682082\n",
            "Theta (parameters): [0.08164704 0.70654736]\n"
          ]
        }
      ]
    },
    {
      "cell_type": "code",
      "source": [
        "import matplotlib.pyplot as plt\n",
        "theta0 = theta[0]  # intercept\n",
        "theta1 =theta[1]  # slope\n",
        "\n",
        "# Tạo biểu đồ\n",
        "plt.figure(figsize=(12, 6))\n",
        "\n",
        "# Vẽ điểm dữ liệu\n",
        "plt.scatter(X_old, Y, color='blue', label='Dữ liệu')\n",
        "\n",
        "# Vẽ đường hồi quy tuyến tính\n",
        "x_line = np.linspace(0, 1, 100)\n",
        "y_line = theta0 + theta1 * x_line\n",
        "plt.plot(x_line, y_line, color='red', label='Đường hồi quy')\n",
        "\n",
        "# Thêm tiêu đề và nhãn\n",
        "plt.title('Linear Regression: Y vs X')\n",
        "plt.xlabel('X')\n",
        "plt.ylabel('Y')\n",
        "\n",
        "# Thêm lưới\n",
        "plt.grid(True, linestyle='--', alpha=0.7)\n",
        "\n",
        "# Hiển thị legend\n",
        "plt.legend()\n",
        "\n",
        "# Hiển thị biểu đồ\n",
        "plt.tight_layout()\n",
        "plt.show()\n",
        "\n",
        "# In phương trình hồi quy\n",
        "print(f\"Phương trình hồi quy: Y = {theta0:.4f} + {theta1:.4f}X\")\n",
        "\n",
        "\n",
        "\n",
        "\n"
      ],
      "metadata": {
        "colab": {
          "base_uri": "https://localhost:8080/",
          "height": 580
        },
        "id": "Xz2ABfkd0gZl",
        "outputId": "90347b50-5637-49f8-a532-7958891ca87a"
      },
      "execution_count": null,
      "outputs": [
        {
          "output_type": "display_data",
          "data": {
            "text/plain": [
              "<Figure size 1200x600 with 1 Axes>"
            ],
            "image/png": "[encoded data removed]"
          },
          "metadata": {}
        },
        {
          "output_type": "stream",
          "name": "stdout",
          "text": [
            "Phương trình hồi quy: Y = 0.0816 + 0.7065X\n"
          ]
        }
      ]
    },
    {
      "cell_type": "code",
      "source": [
        "!unzip /content/Practice2_Chapter2.csv.zip"
      ],
      "metadata": {
        "colab": {
          "base_uri": "https://localhost:8080/"
        },
        "id": "OiiCyv-XqdHH",
        "outputId": "483eadc7-1f7e-44d5-99ff-21814f8f4410"
      },
      "execution_count": null,
      "outputs": [
        {
          "output_type": "stream",
          "name": "stdout",
          "text": [
            "Archive:  /content/Practice2_Chapter2.csv.zip\n",
            "  inflating: Practice2_Chapter2.csv  \n",
            "  inflating: __MACOSX/._Practice2_Chapter2.csv  \n"
          ]
        }
      ]
    },
    {
      "cell_type": "code",
      "source": [
        "import pandas as pd\n",
        "\n",
        "df = pd.read_csv('/content/Practice2_Chapter2.csv')"
      ],
      "metadata": {
        "id": "5DxWMFV4qiQB"
      },
      "execution_count": null,
      "outputs": []
    },
    {
      "cell_type": "code",
      "source": [
        "df"
      ],
      "metadata": {
        "colab": {
          "base_uri": "https://localhost:8080/",
          "height": 423
        },
        "id": "QujnVofpqodC",
        "outputId": "d92744df-9122-4d07-a146-d8227fccacba"
      },
      "execution_count": null,
      "outputs": [
        {
          "output_type": "execute_result",
          "data": {
            "text/plain": [
              "        TV  Radio  Newspaper  Sales\n",
              "0    230.1   37.8       69.2   22.1\n",
              "1     44.5   39.3       45.1   10.4\n",
              "2     17.2   45.9       69.3   12.0\n",
              "3    151.5   41.3       58.5   16.5\n",
              "4    180.8   10.8       58.4   17.9\n",
              "..     ...    ...        ...    ...\n",
              "195   38.2    3.7       13.8    7.6\n",
              "196   94.2    4.9        8.1   14.0\n",
              "197  177.0    9.3        6.4   14.8\n",
              "198  283.6   42.0       66.2   25.5\n",
              "199  232.1    8.6        8.7   18.4\n",
              "\n",
              "[200 rows x 4 columns]"
            ],
            "text/html": [
              "\n",
              "  <div id=\"df-48e3ba87-8739-4c0a-a5ca-3590afed7b14\" class=\"colab-df-container\">\n",
              "    <div>\n",
              "<style scoped>\n",
              "    .dataframe tbody tr th:only-of-type {\n",
              "        vertical-align: middle;\n",
              "    }\n",
              "\n",
              "    .dataframe tbody tr th {\n",
              "        vertical-align: top;\n",
              "    }\n",
              "\n",
              "    .dataframe thead th {\n",
              "        text-align: right;\n",
              "    }\n",
              "</style>\n",
              "<table border=\"1\" class=\"dataframe\">\n",
              "  <thead>\n",
              "    <tr style=\"text-align: right;\">\n",
              "      <th></th>\n",
              "      <th>TV</th>\n",
              "      <th>Radio</th>\n",
              "      <th>Newspaper</th>\n",
              "      <th>Sales</th>\n",
              "    </tr>\n",
              "  </thead>\n",
              "  <tbody>\n",
              "    <tr>\n",
              "      <th>0</th>\n",
              "      <td>230.1</td>\n",
              "      <td>37.8</td>\n",
              "      <td>69.2</td>\n",
              "      <td>22.1</td>\n",
              "    </tr>\n",
              "    <tr>\n",
              "      <th>1</th>\n",
              "      <td>44.5</td>\n",
              "      <td>39.3</td>\n",
              "      <td>45.1</td>\n",
              "      <td>10.4</td>\n",
              "    </tr>\n",
              "    <tr>\n",
              "      <th>2</th>\n",
              "      <td>17.2</td>\n",
              "      <td>45.9</td>\n",
              "      <td>69.3</td>\n",
              "      <td>12.0</td>\n",
              "    </tr>\n",
              "    <tr>\n",
              "      <th>3</th>\n",
              "      <td>151.5</td>\n",
              "      <td>41.3</td>\n",
              "      <td>58.5</td>\n",
              "      <td>16.5</td>\n",
              "    </tr>\n",
              "    <tr>\n",
              "      <th>4</th>\n",
              "      <td>180.8</td>\n",
              "      <td>10.8</td>\n",
              "      <td>58.4</td>\n",
              "      <td>17.9</td>\n",
              "    </tr>\n",
              "    <tr>\n",
              "      <th>...</th>\n",
              "      <td>...</td>\n",
              "      <td>...</td>\n",
              "      <td>...</td>\n",
              "      <td>...</td>\n",
              "    </tr>\n",
              "    <tr>\n",
              "      <th>195</th>\n",
              "      <td>38.2</td>\n",
              "      <td>3.7</td>\n",
              "      <td>13.8</td>\n",
              "      <td>7.6</td>\n",
              "    </tr>\n",
              "    <tr>\n",
              "      <th>196</th>\n",
              "      <td>94.2</td>\n",
              "      <td>4.9</td>\n",
              "      <td>8.1</td>\n",
              "      <td>14.0</td>\n",
              "    </tr>\n",
              "    <tr>\n",
              "      <th>197</th>\n",
              "      <td>177.0</td>\n",
              "      <td>9.3</td>\n",
              "      <td>6.4</td>\n",
              "      <td>14.8</td>\n",
              "    </tr>\n",
              "    <tr>\n",
              "      <th>198</th>\n",
              "      <td>283.6</td>\n",
              "      <td>42.0</td>\n",
              "      <td>66.2</td>\n",
              "      <td>25.5</td>\n",
              "    </tr>\n",
              "    <tr>\n",
              "      <th>199</th>\n",
              "      <td>232.1</td>\n",
              "      <td>8.6</td>\n",
              "      <td>8.7</td>\n",
              "      <td>18.4</td>\n",
              "    </tr>\n",
              "  </tbody>\n",
              "</table>\n",
              "<p>200 rows × 4 columns</p>\n",
              "</div>\n",
              "    <div class=\"colab-df-buttons\">\n",
              "\n",
              "  <div class=\"colab-df-container\">\n",
              "    <button class=\"colab-df-convert\" onclick=\"convertToInteractive('df-48e3ba87-8739-4c0a-a5ca-3590afed7b14')\"\n",
              "            title=\"Convert this dataframe to an interactive table.\"\n",
              "            style=\"display:none;\">\n",
              "\n",
              "  <svg xmlns=\"http://www.w3.org/2000/svg\" height=\"24px\" viewBox=\"0 -960 960 960\">\n",
              "    <path d=\"M120-120v-720h720v720H120Zm60-500h600v-160H180v160Zm220 220h160v-160H400v160Zm0 220h160v-160H400v160ZM180-400h160v-160H180v160Zm440 0h160v-160H620v160ZM180-180h160v-160H180v160Zm440 0h160v-160H620v160Z\"/>\n",
              "  </svg>\n",
              "    </button>\n",
              "\n",
              "  <style>\n",
              "    .colab-df-container {\n",
              "      display:flex;\n",
              "      gap: 12px;\n",
              "    }\n",
              "\n",
              "    .colab-df-convert {\n",
              "      background-color: #E8F0FE;\n",
              "      border: none;\n",
              "      border-radius: 50%;\n",
              "      cursor: pointer;\n",
              "      display: none;\n",
              "      fill: #1967D2;\n",
              "      height: 32px;\n",
              "      padding: 0 0 0 0;\n",
              "      width: 32px;\n",
              "    }\n",
              "\n",
              "    .colab-df-convert:hover {\n",
              "      background-color: #E2EBFA;\n",
              "      box-shadow: 0px 1px 2px rgba(60, 64, 67, 0.3), 0px 1px 3px 1px rgba(60, 64, 67, 0.15);\n",
              "      fill: #174EA6;\n",
              "    }\n",
              "\n",
              "    .colab-df-buttons div {\n",
              "      margin-bottom: 4px;\n",
              "    }\n",
              "\n",
              "    [theme=dark] .colab-df-convert {\n",
              "      background-color: #3B4455;\n",
              "      fill: #D2E3FC;\n",
              "    }\n",
              "\n",
              "    [theme=dark] .colab-df-convert:hover {\n",
              "      background-color: #434B5C;\n",
              "      box-shadow: 0px 1px 3px 1px rgba(0, 0, 0, 0.15);\n",
              "      filter: drop-shadow(0px 1px 2px rgba(0, 0, 0, 0.3));\n",
              "      fill: #FFFFFF;\n",
              "    }\n",
              "  </style>\n",
              "\n",
              "    <script>\n",
              "      const buttonEl =\n",
              "        document.querySelector('#df-48e3ba87-8739-4c0a-a5ca-3590afed7b14 button.colab-df-convert');\n",
              "      buttonEl.style.display =\n",
              "        google.colab.kernel.accessAllowed ? 'block' : 'none';\n",
              "\n",
              "      async function convertToInteractive(key) {\n",
              "        const element = document.querySelector('#df-48e3ba87-8739-4c0a-a5ca-3590afed7b14');\n",
              "        const dataTable =\n",
              "          await google.colab.kernel.invokeFunction('convertToInteractive',\n",
              "                                                    [key], {});\n",
              "        if (!dataTable) return;\n",
              "\n",
              "        const docLinkHtml = 'Like what you see? Visit the ' +\n",
              "          '<a target=\"_blank\" href=https://colab.research.google.com/notebooks/data_table.ipynb>data table notebook</a>'\n",
              "          + ' to learn more about interactive tables.';\n",
              "        element.innerHTML = '';\n",
              "        dataTable['output_type'] = 'display_data';\n",
              "        await google.colab.output.renderOutput(dataTable, element);\n",
              "        const docLink = document.createElement('div');\n",
              "        docLink.innerHTML = docLinkHtml;\n",
              "        element.appendChild(docLink);\n",
              "      }\n",
              "    </script>\n",
              "  </div>\n",
              "\n",
              "\n",
              "<div id=\"df-7e04fe59-f4d2-4f45-8fdc-902d3177fb05\">\n",
              "  <button class=\"colab-df-quickchart\" onclick=\"quickchart('df-7e04fe59-f4d2-4f45-8fdc-902d3177fb05')\"\n",
              "            title=\"Suggest charts\"\n",
              "            style=\"display:none;\">\n",
              "\n",
              "<svg xmlns=\"http://www.w3.org/2000/svg\" height=\"24px\"viewBox=\"0 0 24 24\"\n",
              "     width=\"24px\">\n",
              "    <g>\n",
              "        <path d=\"M19 3H5c-1.1 0-2 .9-2 2v14c0 1.1.9 2 2 2h14c1.1 0 2-.9 2-2V5c0-1.1-.9-2-2-2zM9 17H7v-7h2v7zm4 0h-2V7h2v10zm4 0h-2v-4h2v4z\"/>\n",
              "    </g>\n",
              "</svg>\n",
              "  </button>\n",
              "\n",
              "<style>\n",
              "  .colab-df-quickchart {\n",
              "      --bg-color: #E8F0FE;\n",
              "      --fill-color: #1967D2;\n",
              "      --hover-bg-color: #E2EBFA;\n",
              "      --hover-fill-color: #174EA6;\n",
              "      --disabled-fill-color: #AAA;\n",
              "      --disabled-bg-color: #DDD;\n",
              "  }\n",
              "\n",
              "  [theme=dark] .colab-df-quickchart {\n",
              "      --bg-color: #3B4455;\n",
              "      --fill-color: #D2E3FC;\n",
              "      --hover-bg-color: #434B5C;\n",
              "      --hover-fill-color: #FFFFFF;\n",
              "      --disabled-bg-color: #3B4455;\n",
              "      --disabled-fill-color: #666;\n",
              "  }\n",
              "\n",
              "  .colab-df-quickchart {\n",
              "    background-color: var(--bg-color);\n",
              "    border: none;\n",
              "    border-radius: 50%;\n",
              "    cursor: pointer;\n",
              "    display: none;\n",
              "    fill: var(--fill-color);\n",
              "    height: 32px;\n",
              "    padding: 0;\n",
              "    width: 32px;\n",
              "  }\n",
              "\n",
              "  .colab-df-quickchart:hover {\n",
              "    background-color: var(--hover-bg-color);\n",
              "    box-shadow: 0 1px 2px rgba(60, 64, 67, 0.3), 0 1px 3px 1px rgba(60, 64, 67, 0.15);\n",
              "    fill: var(--button-hover-fill-color);\n",
              "  }\n",
              "\n",
              "  .colab-df-quickchart-complete:disabled,\n",
              "  .colab-df-quickchart-complete:disabled:hover {\n",
              "    background-color: var(--disabled-bg-color);\n",
              "    fill: var(--disabled-fill-color);\n",
              "    box-shadow: none;\n",
              "  }\n",
              "\n",
              "  .colab-df-spinner {\n",
              "    border: 2px solid var(--fill-color);\n",
              "    border-color: transparent;\n",
              "    border-bottom-color: var(--fill-color);\n",
              "    animation:\n",
              "      spin 1s steps(1) infinite;\n",
              "  }\n",
              "\n",
              "  @keyframes spin {\n",
              "    0% {\n",
              "      border-color: transparent;\n",
              "      border-bottom-color: var(--fill-color);\n",
              "      border-left-color: var(--fill-color);\n",
              "    }\n",
              "    20% {\n",
              "      border-color: transparent;\n",
              "      border-left-color: var(--fill-color);\n",
              "      border-top-color: var(--fill-color);\n",
              "    }\n",
              "    30% {\n",
              "      border-color: transparent;\n",
              "      border-left-color: var(--fill-color);\n",
              "      border-top-color: var(--fill-color);\n",
              "      border-right-color: var(--fill-color);\n",
              "    }\n",
              "    40% {\n",
              "      border-color: transparent;\n",
              "      border-right-color: var(--fill-color);\n",
              "      border-top-color: var(--fill-color);\n",
              "    }\n",
              "    60% {\n",
              "      border-color: transparent;\n",
              "      border-right-color: var(--fill-color);\n",
              "    }\n",
              "    80% {\n",
              "      border-color: transparent;\n",
              "      border-right-color: var(--fill-color);\n",
              "      border-bottom-color: var(--fill-color);\n",
              "    }\n",
              "    90% {\n",
              "      border-color: transparent;\n",
              "      border-bottom-color: var(--fill-color);\n",
              "    }\n",
              "  }\n",
              "</style>\n",
              "\n",
              "  <script>\n",
              "    async function quickchart(key) {\n",
              "      const quickchartButtonEl =\n",
              "        document.querySelector('#' + key + ' button');\n",
              "      quickchartButtonEl.disabled = true;  // To prevent multiple clicks.\n",
              "      quickchartButtonEl.classList.add('colab-df-spinner');\n",
              "      try {\n",
              "        const charts = await google.colab.kernel.invokeFunction(\n",
              "            'suggestCharts', [key], {});\n",
              "      } catch (error) {\n",
              "        console.error('Error during call to suggestCharts:', error);\n",
              "      }\n",
              "      quickchartButtonEl.classList.remove('colab-df-spinner');\n",
              "      quickchartButtonEl.classList.add('colab-df-quickchart-complete');\n",
              "    }\n",
              "    (() => {\n",
              "      let quickchartButtonEl =\n",
              "        document.querySelector('#df-7e04fe59-f4d2-4f45-8fdc-902d3177fb05 button');\n",
              "      quickchartButtonEl.style.display =\n",
              "        google.colab.kernel.accessAllowed ? 'block' : 'none';\n",
              "    })();\n",
              "  </script>\n",
              "</div>\n",
              "\n",
              "  <div id=\"id_d017eba9-dd77-4609-a178-24c3d1c0481e\">\n",
              "    <style>\n",
              "      .colab-df-generate {\n",
              "        background-color: #E8F0FE;\n",
              "        border: none;\n",
              "        border-radius: 50%;\n",
              "        cursor: pointer;\n",
              "        display: none;\n",
              "        fill: #1967D2;\n",
              "        height: 32px;\n",
              "        padding: 0 0 0 0;\n",
              "        width: 32px;\n",
              "      }\n",
              "\n",
              "      .colab-df-generate:hover {\n",
              "        background-color: #E2EBFA;\n",
              "        box-shadow: 0px 1px 2px rgba(60, 64, 67, 0.3), 0px 1px 3px 1px rgba(60, 64, 67, 0.15);\n",
              "        fill: #174EA6;\n",
              "      }\n",
              "\n",
              "      [theme=dark] .colab-df-generate {\n",
              "        background-color: #3B4455;\n",
              "        fill: #D2E3FC;\n",
              "      }\n",
              "\n",
              "      [theme=dark] .colab-df-generate:hover {\n",
              "        background-color: #434B5C;\n",
              "        box-shadow: 0px 1px 3px 1px rgba(0, 0, 0, 0.15);\n",
              "        filter: drop-shadow(0px 1px 2px rgba(0, 0, 0, 0.3));\n",
              "        fill: #FFFFFF;\n",
              "      }\n",
              "    </style>\n",
              "    <button class=\"colab-df-generate\" onclick=\"generateWithVariable('df')\"\n",
              "            title=\"Generate code using this dataframe.\"\n",
              "            style=\"display:none;\">\n",
              "\n",
              "  <svg xmlns=\"http://www.w3.org/2000/svg\" height=\"24px\"viewBox=\"0 0 24 24\"\n",
              "       width=\"24px\">\n",
              "    <path d=\"M7,19H8.4L18.45,9,17,7.55,7,17.6ZM5,21V16.75L18.45,3.32a2,2,0,0,1,2.83,0l1.4,1.43a1.91,1.91,0,0,1,.58,1.4,1.91,1.91,0,0,1-.58,1.4L9.25,21ZM18.45,9,17,7.55Zm-12,3A5.31,5.31,0,0,0,4.9,8.1,5.31,5.31,0,0,0,1,6.5,5.31,5.31,0,0,0,4.9,4.9,5.31,5.31,0,0,0,6.5,1,5.31,5.31,0,0,0,8.1,4.9,5.31,5.31,0,0,0,12,6.5,5.46,5.46,0,0,0,6.5,12Z\"/>\n",
              "  </svg>\n",
              "    </button>\n",
              "    <script>\n",
              "      (() => {\n",
              "      const buttonEl =\n",
              "        document.querySelector('#id_d017eba9-dd77-4609-a178-24c3d1c0481e button.colab-df-generate');\n",
              "      buttonEl.style.display =\n",
              "        google.colab.kernel.accessAllowed ? 'block' : 'none';\n",
              "\n",
              "      buttonEl.onclick = () => {\n",
              "        google.colab.notebook.generateWithVariable('df');\n",
              "      }\n",
              "      })();\n",
              "    </script>\n",
              "  </div>\n",
              "\n",
              "    </div>\n",
              "  </div>\n"
            ],
            "application/vnd.google.colaboratory.intrinsic+json": {
              "type": "dataframe",
              "variable_name": "df",
              "summary": "{\n  \"name\": \"df\",\n  \"rows\": 200,\n  \"fields\": [\n    {\n      \"column\": \"TV\",\n      \"properties\": {\n        \"dtype\": \"number\",\n        \"std\": 85.85423631490808,\n        \"min\": 0.7,\n        \"max\": 296.4,\n        \"num_unique_values\": 190,\n        \"samples\": [\n          287.6,\n          286.0,\n          78.2\n        ],\n        \"semantic_type\": \"\",\n        \"description\": \"\"\n      }\n    },\n    {\n      \"column\": \"Radio\",\n      \"properties\": {\n        \"dtype\": \"number\",\n        \"std\": 14.846809176168724,\n        \"min\": 0.0,\n        \"max\": 49.6,\n        \"num_unique_values\": 167,\n        \"samples\": [\n          8.2,\n          36.9,\n          44.5\n        ],\n        \"semantic_type\": \"\",\n        \"description\": \"\"\n      }\n    },\n    {\n      \"column\": \"Newspaper\",\n      \"properties\": {\n        \"dtype\": \"number\",\n        \"std\": 21.778620838522826,\n        \"min\": 0.3,\n        \"max\": 114.0,\n        \"num_unique_values\": 172,\n        \"samples\": [\n          22.3,\n          5.7,\n          17.0\n        ],\n        \"semantic_type\": \"\",\n        \"description\": \"\"\n      }\n    },\n    {\n      \"column\": \"Sales\",\n      \"properties\": {\n        \"dtype\": \"number\",\n        \"std\": 5.283892252561876,\n        \"min\": 1.6,\n        \"max\": 27.0,\n        \"num_unique_values\": 121,\n        \"samples\": [\n          19.8,\n          22.6,\n          17.9\n        ],\n        \"semantic_type\": \"\",\n        \"description\": \"\"\n      }\n    }\n  ]\n}"
            }
          },
          "metadata": {},
          "execution_count": 3
        }
      ]
    },
    {
      "cell_type": "code",
      "source": [
        "# Tách biến Y và X\n",
        "X = df[['TV', 'Radio', 'Newspaper']]  # Biến độc lập\n",
        "Y = df['Sales']  # Biến phụ thuộc\n",
        "\n",
        "print(\"X:\\n\", X)\n",
        "print(\"Y:\\n\", Y)"
      ],
      "metadata": {
        "colab": {
          "base_uri": "https://localhost:8080/"
        },
        "id": "YwYQLSv_q7Z2",
        "outputId": "c86abb87-c053-42a8-84ae-71a7345741bd"
      },
      "execution_count": null,
      "outputs": [
        {
          "output_type": "stream",
          "name": "stdout",
          "text": [
            "X:\n",
            "         TV  Radio  Newspaper\n",
            "0    230.1   37.8       69.2\n",
            "1     44.5   39.3       45.1\n",
            "2     17.2   45.9       69.3\n",
            "3    151.5   41.3       58.5\n",
            "4    180.8   10.8       58.4\n",
            "..     ...    ...        ...\n",
            "195   38.2    3.7       13.8\n",
            "196   94.2    4.9        8.1\n",
            "197  177.0    9.3        6.4\n",
            "198  283.6   42.0       66.2\n",
            "199  232.1    8.6        8.7\n",
            "\n",
            "[200 rows x 3 columns]\n",
            "Y:\n",
            " 0      22.1\n",
            "1      10.4\n",
            "2      12.0\n",
            "3      16.5\n",
            "4      17.9\n",
            "       ... \n",
            "195     7.6\n",
            "196    14.0\n",
            "197    14.8\n",
            "198    25.5\n",
            "199    18.4\n",
            "Name: Sales, Length: 200, dtype: float64\n"
          ]
        }
      ]
    },
    {
      "cell_type": "code",
      "source": [
        "X_old = df[['TV', 'Radio', 'Newspaper']]  # Biến độc lập\n"
      ],
      "metadata": {
        "id": "S2ohKvWCs4mt"
      },
      "execution_count": null,
      "outputs": []
    },
    {
      "cell_type": "code",
      "source": [
        "X=min_max_scale(X)\n",
        "print(X)\n",
        "Y=min_max_scale(Y)\n",
        "print(Y)"
      ],
      "metadata": {
        "colab": {
          "base_uri": "https://localhost:8080/"
        },
        "id": "LmvkrSwWrCGH",
        "outputId": "fc59ad82-2601-416f-dcbd-b855051de5fe"
      },
      "execution_count": null,
      "outputs": [
        {
          "output_type": "stream",
          "name": "stdout",
          "text": [
            "           TV     Radio  Newspaper\n",
            "0    0.775786  0.762097   0.605981\n",
            "1    0.148123  0.792339   0.394019\n",
            "2    0.055800  0.925403   0.606860\n",
            "3    0.509976  0.832661   0.511873\n",
            "4    0.609063  0.217742   0.510994\n",
            "..        ...       ...        ...\n",
            "195  0.126818  0.074597   0.118734\n",
            "196  0.316199  0.098790   0.068602\n",
            "197  0.596212  0.187500   0.053650\n",
            "198  0.956713  0.846774   0.579595\n",
            "199  0.782550  0.173387   0.073879\n",
            "\n",
            "[200 rows x 3 columns]\n",
            "0      0.807087\n",
            "1      0.346457\n",
            "2      0.409449\n",
            "3      0.586614\n",
            "4      0.641732\n",
            "         ...   \n",
            "195    0.236220\n",
            "196    0.488189\n",
            "197    0.519685\n",
            "198    0.940945\n",
            "199    0.661417\n",
            "Name: Sales, Length: 200, dtype: float64\n"
          ]
        }
      ]
    },
    {
      "cell_type": "code",
      "source": [
        "print(X.shape[1])"
      ],
      "metadata": {
        "colab": {
          "base_uri": "https://localhost:8080/"
        },
        "id": "1f53RoG7rQVm",
        "outputId": "097c9a40-4e60-466f-8e5e-91ed7126695f"
      },
      "execution_count": null,
      "outputs": [
        {
          "output_type": "stream",
          "name": "stdout",
          "text": [
            "3\n"
          ]
        }
      ]
    },
    {
      "cell_type": "code",
      "source": [
        "theta=initialize_theta(n=3)\n",
        "print(theta)"
      ],
      "metadata": {
        "colab": {
          "base_uri": "https://localhost:8080/"
        },
        "id": "x-4sQ5N5rkEq",
        "outputId": "0222ab3b-ab0a-430a-882d-ad29d3867827"
      },
      "execution_count": null,
      "outputs": [
        {
          "output_type": "stream",
          "name": "stdout",
          "text": [
            "[1.76405235 0.40015721 0.97873798 2.2408932 ]\n"
          ]
        }
      ]
    },
    {
      "cell_type": "code",
      "source": [
        "X = X.values\n",
        "m=X.shape[0]\n",
        "ones=np.ones((m,1))\n",
        "X=np.concatenate((ones,X),axis=1)\n",
        "print(X)"
      ],
      "metadata": {
        "colab": {
          "base_uri": "https://localhost:8080/"
        },
        "id": "mDY3FsLyrFfs",
        "outputId": "1496f225-63d1-4bec-e5fa-9a065acc8b83"
      },
      "execution_count": null,
      "outputs": [
        {
          "output_type": "stream",
          "name": "stdout",
          "text": [
            "[[1.         0.77578627 0.76209677 0.60598065]\n",
            " [1.         0.1481231  0.79233871 0.39401935]\n",
            " [1.         0.0557998  0.92540323 0.60686016]\n",
            " [1.         0.50997633 0.83266129 0.51187335]\n",
            " [1.         0.60906324 0.21774194 0.51099384]\n",
            " [1.         0.02705445 0.9858871  0.65699208]\n",
            " [1.         0.19208657 0.66129032 0.20404573]\n",
            " [1.         0.4041258  0.39516129 0.09938434]\n",
            " [1.         0.02671627 0.04233871 0.00615655]\n",
            " [1.         0.67331755 0.05241935 0.18381706]\n",
            " [1.         0.2211701  0.11693548 0.21020229]\n",
            " [1.         0.72370646 0.48387097 0.03254178]\n",
            " [1.         0.07811972 0.70766129 0.5769569 ]\n",
            " [1.         0.32735881 0.15322581 0.06068602]\n",
            " [1.         0.68785932 0.66330645 0.40193492]\n",
            " [1.         0.65843761 0.96169355 0.46262093]\n",
            " [1.         0.22691917 0.73790323 1.        ]\n",
            " [1.         0.94927291 0.7983871  0.48812665]\n",
            " [1.         0.2316537  0.41330645 0.15831135]\n",
            " [1.         0.49577274 0.48185484 0.16534741]\n",
            " [1.         0.73621914 0.55846774 0.46701847]\n",
            " [1.         0.80047345 0.10282258 0.20404573]\n",
            " [1.         0.04227257 0.32056452 0.43359719]\n",
            " [1.         0.76969902 0.34072581 0.22779244]\n",
            " [1.         0.20831924 0.25403226 0.15831135]\n",
            " [1.         0.8867095  0.07056452 0.16886544]\n",
            " [1.         0.4808928  0.59072581 0.10817942]\n",
            " [1.         0.80960433 0.33669355 0.19876869]\n",
            " [1.         0.83902604 0.54637097 0.19876869]\n",
            " [1.         0.23638823 0.32258065 0.35620053]\n",
            " [1.         0.98816368 0.57056452 0.37730871]\n",
            " [1.         0.37943862 0.35080645 0.33685136]\n",
            " [1.         0.32634427 0.03024194 0.26121372]\n",
            " [1.         0.89584038 0.40322581 0.        ]\n",
            " [1.         0.32127156 0.02822581 0.06244503]\n",
            " [1.         0.98072371 0.08266129 0.07211961]\n",
            " [1.         0.90023673 0.88306452 0.04133685]\n",
            " [1.         0.25025364 0.99596774 0.39929639]\n",
            " [1.         0.14338857 0.53830645 0.3060686 ]\n",
            " [1.         0.76868448 0.76008065 0.27880387]\n",
            " [1.         0.68244843 0.44959677 0.27528584]\n",
            " [1.         0.59621238 0.6733871  0.33773087]\n",
            " [1.         0.99053094 0.55846774 0.01319261]\n",
            " [1.         0.69732837 0.16935484 0.22955145]\n",
            " [1.         0.08251606 0.51814516 0.37818821]\n",
            " [1.         0.58978695 0.45362903 0.27440633]\n",
            " [1.         0.30098072 0.19959677 0.31134565]\n",
            " [1.         0.80892797 0.83669355 0.16007036]\n",
            " [1.         0.76597903 0.31854839 0.43623571]\n",
            " [1.         0.22387555 0.2358871  0.32102023]\n",
            " [1.         0.67331755 0.0625     0.30167106]\n",
            " [1.         0.33716605 0.19354839 0.02902375]\n",
            " [1.         0.72945553 0.84072581 0.34564644]\n",
            " [1.         0.61515049 0.93145161 0.51363237]\n",
            " [1.         0.88603314 0.58064516 0.13720317]\n",
            " [1.         0.67027393 0.99596774 0.52506596]\n",
            " [1.         0.02231992 0.56653226 0.36147757]\n",
            " [1.         0.4582347  0.38709677 0.14335972]\n",
            " [1.         0.71051742 1.         0.3289358 ]\n",
            " [1.         0.71017924 0.59475806 0.07915567]\n",
            " [1.         0.17855935 0.04032258 0.18557608]\n",
            " [1.         0.88129861 0.8608871  0.47845207]\n",
            " [1.         0.80689888 0.3125     0.23746702]\n",
            " [1.         0.3449442  0.59677419 0.07124011]\n",
            " [1.         0.44098749 0.86290323 0.25153914]\n",
            " [1.         0.23097734 0.1875     0.00527704]\n",
            " [1.         0.10415962 0.49596774 0.01671064]\n",
            " [1.         0.4687183  0.29233871 0.08707124]\n",
            " [1.         0.80047345 0.55443548 0.0941073 ]\n",
            " [1.         0.73080825 0.88508065 0.23658751]\n",
            " [1.         0.67095029 0.61693548 0.33773087]\n",
            " [1.         0.36895502 0.28830645 0.27616535]\n",
            " [1.         0.08826513 0.66532258 0.16710642]\n",
            " [1.         0.43523842 0.11491935 0.27264732]\n",
            " [1.         0.71931011 0.49596774 0.11257696]\n",
            " [1.         0.05478526 0.88104839 0.78364116]\n",
            " [1.         0.0906324  0.03225806 0.17941953]\n",
            " [1.         0.40514034 0.57459677 0.12225154]\n",
            " [1.         0.01589449 0.60282258 0.08003518]\n",
            " [1.         0.38992222 0.15524194 0.2005277 ]\n",
            " [1.         0.25600271 0.53830645 0.19349164]\n",
            " [1.         0.80858979 0.08266129 0.32189974]\n",
            " [1.         0.25228272 0.40927419 0.28320141]\n",
            " [1.         0.22894826 0.89717742 0.31046614]\n",
            " [1.         0.71964829 0.86693548 0.294635  ]\n",
            " [1.         0.65099763 0.37096774 0.57519789]\n",
            " [1.         0.25566452 0.55443548 0.13808267]\n",
            " [1.         0.37199865 0.81854839 0.5532102 ]\n",
            " [1.         0.2962462  0.5141129  0.64291996]\n",
            " [1.         0.36895502 0.96370968 0.44942832]\n",
            " [1.         0.45180927 0.09879032 0.07915567]\n",
            " [1.         0.09435238 0.03024194 0.28759894]\n",
            " [1.         0.73385188 0.67540323 0.51627089]\n",
            " [1.         0.84612783 0.7358871  0.63324538]\n",
            " [1.         0.36083869 0.28225806 0.09322779]\n",
            " [1.         0.54988164 0.63709677 0.46262093]\n",
            " [1.         0.66587758 0.07056452 0.04925242]\n",
            " [1.         0.62292864 0.4233871  0.19085312]\n",
            " [1.         0.9773419  0.85282258 0.44766931]\n",
            " [1.         0.45485289 0.84072581 0.40105541]\n",
            " [1.         0.74974636 0.08669355 0.4353562 ]\n",
            " [1.         1.         0.73185484 0.88478452]\n",
            " [1.         0.94521474 0.20362903 0.18557608]\n",
            " [1.         0.63307406 0.34677419 0.15479332]\n",
            " [1.         0.8031789  0.69153226 0.04397537]\n",
            " [1.         0.46398377 0.93548387 0.51627089]\n",
            " [1.         0.08217788 0.22177419 0.2585752 ]\n",
            " [1.         0.30334799 0.00604839 0.20140721]\n",
            " [1.         0.04193439 0.00806452 0.22251539]\n",
            " [1.         0.86134596 0.54233871 0.04573439]\n",
            " [1.         0.7612445  0.16532258 0.4942832 ]\n",
            " [1.         0.81501522 0.76612903 0.20140721]\n",
            " [1.         0.59181603 0.31048387 0.01846966]\n",
            " [1.         0.70645925 0.41532258 0.09146878]\n",
            " [1.         0.26208996 0.94354839 0.30079156]\n",
            " [1.         0.25160636 0.70564516 0.46086192]\n",
            " [1.         0.46838011 0.28830645 0.22251539]\n",
            " [1.         0.25600271 0.01612903 0.12752858]\n",
            " [1.         0.42272574 0.74395161 0.6939314 ]\n",
            " [1.         0.06323977 0.32258065 0.19349164]\n",
            " [1.         0.47548191 0.54032258 0.40369393]\n",
            " [1.         0.06121069 0.4375     0.44063325]\n",
            " [1.         0.75515725 0.0483871  0.13456464]\n",
            " [1.         0.41393304 0.69758065 0.1064204 ]\n",
            " [1.         0.77375719 0.65120968 0.64995602]\n",
            " [1.         0.29252621 0.23790323 0.22515391]\n",
            " [1.         0.02401082 0.78427419 0.44239226]\n",
            " [1.         0.26885357 0.         0.07827617]\n",
            " [1.         0.74264457 0.98790323 0.02550572]\n",
            " [1.         0.19918837 0.24193548 0.3764292 ]\n",
            " [1.         0.         0.7983871  0.07387863]\n",
            " [1.         0.89448766 0.05846774 0.37554969]\n",
            " [1.         0.02603991 0.5483871  0.01583113]\n",
            " [1.         0.74095367 0.67540323 0.39401935]\n",
            " [1.         0.12242137 0.77822581 0.57431838]\n",
            " [1.         0.16097396 0.94758065 0.07211961]\n",
            " [1.         0.08420697 0.78629032 0.07915567]\n",
            " [1.         0.92323301 0.58266129 0.52242744]\n",
            " [1.         0.14305039 0.52217742 0.17766051]\n",
            " [1.         0.62292864 0.88508065 0.0123131 ]\n",
            " [1.         0.24585729 0.34274194 0.11081794]\n",
            " [1.         0.65268854 0.71370968 0.66226913]\n",
            " [1.         0.74332093 0.66935484 0.33069481]\n",
            " [1.         0.35136963 0.11491935 0.29991205]\n",
            " [1.         0.32296246 0.2983871  0.33948989]\n",
            " [1.         0.4721001  0.03830645 0.07651715]\n",
            " [1.         0.80960433 0.14717742 0.07387863]\n",
            " [1.         0.82008793 0.98790323 0.38698329]\n",
            " [1.         0.12614136 0.8125     0.10202287]\n",
            " [1.         0.14879946 0.52016129 0.17854002]\n",
            " [1.         0.94690565 0.28024194 0.32277924]\n",
            " [1.         0.40683125 0.16935484 0.42568162]\n",
            " [1.         0.66587758 0.46975806 0.12225154]\n",
            " [1.         0.57693608 0.80040323 0.3289358 ]\n",
            " [1.         0.63273588 0.42540323 0.08091469]\n",
            " [1.         0.01149814 0.23387097 0.0474934 ]\n",
            " [1.         0.31518431 0.87701613 0.44151275]\n",
            " [1.         0.50422726 0.02620968 0.21108179]\n",
            " [1.         0.03719986 0.74395161 0.39489886]\n",
            " [1.         0.44301657 0.37096774 0.30167106]\n",
            " [1.         0.58099425 0.36491935 0.26737027]\n",
            " [1.         0.2874535  0.72177419 0.43095866]\n",
            " [1.         0.63476496 0.36491935 0.22251539]\n",
            " [1.         0.550558   0.74193548 0.06244503]\n",
            " [1.         0.39398039 0.29637097 0.04485488]\n",
            " [1.         0.79066622 0.06854839 0.74318382]\n",
            " [1.         0.05816706 0.75806452 0.18733509]\n",
            " [1.         0.69699019 0.10483871 0.16798593]\n",
            " [1.         0.72607372 0.47580645 0.50395778]\n",
            " [1.         0.95908015 0.21370968 0.05364996]\n",
            " [1.         0.16672303 0.23387097 0.15919085]\n",
            " [1.         0.5539398  0.42137097 0.41424802]\n",
            " [1.         0.06391613 0.40524194 0.14687775]\n",
            " [1.         0.56712885 0.14314516 0.10993843]\n",
            " [1.         0.74974636 0.06854839 0.11257696]\n",
            " [1.         0.93405479 0.9858871  0.3649956 ]\n",
            " [1.         0.83767332 0.60887097 0.1759015 ]\n",
            " [1.         0.5732161  0.15725806 0.30694811]\n",
            " [1.         0.93337842 0.04637097 0.20580475]\n",
            " [1.         0.55765979 0.2016129  0.15215479]\n",
            " [1.         0.52722354 0.05241935 0.0703606 ]\n",
            " [1.         0.73655732 0.10887097 0.23834653]\n",
            " [1.         0.18769023 0.11491935 0.2585752 ]\n",
            " [1.         0.97024011 0.86693548 0.62884785]\n",
            " [1.         0.85593507 0.42943548 0.26121372]\n",
            " [1.         0.69090294 0.90927419 0.16974494]\n",
            " [1.         0.46939466 0.04233871 0.23131047]\n",
            " [1.         0.64389584 0.57862903 0.15743184]\n",
            " [1.         0.96482922 0.28024194 0.02990325]\n",
            " [1.         0.06087251 0.24395161 0.20316623]\n",
            " [1.         0.13121407 0.82862903 0.04837291]\n",
            " [1.         0.25295908 0.21774194 0.05013193]\n",
            " [1.         0.0557998  0.08266129 0.27528584]\n",
            " [1.         0.56171796 0.84677419 0.02902375]\n",
            " [1.         0.50388908 0.71774194 0.05013193]\n",
            " [1.         0.12681772 0.07459677 0.11873351]\n",
            " [1.         0.31619885 0.09879032 0.06860158]\n",
            " [1.         0.59621238 0.1875     0.05364996]\n",
            " [1.         0.95671288 0.84677419 0.57959543]\n",
            " [1.         0.78254988 0.1733871  0.07387863]]\n"
          ]
        }
      ]
    },
    {
      "cell_type": "code",
      "source": [
        "learning_rate = 0.01\n",
        "num_iterations = 1000\n",
        "epsilon = 1e-6  # Điều kiện dừng sớm (ngưỡng thay đổi chi phí)\n",
        "\n",
        "\n",
        "# Vòng lặp huấn luyện với dừng sớm\n",
        "previous_cost = float('inf')  # Khởi tạo chi phí trước với giá trị vô hạn\n",
        "\n",
        "for i in range(num_iterations):\n",
        "    y_hat = predict(X, theta)  # Dự đoán\n",
        "    cost_value = cost(Y, y_hat, m)  # Tính chi phí\n",
        "    grad = gradient(Y, y_hat, X, m)  # Tính gradient\n",
        "    theta = theta - learning_rate * grad  # Cập nhật theta\n",
        "\n",
        "    # In chi phí sau mỗi 10 vòng lặp\n",
        "    if i % 10 == 0:\n",
        "        print(f\"Iteration {i+1}: Cost = {cost_value}\")\n",
        "\n",
        "    # Kiểm tra điều kiện dừng sớm\n",
        "    if abs(previous_cost - cost_value) < epsilon:\n",
        "        print(f\"Early stopping at iteration {i+1}, Cost = {cost_value}\")\n",
        "        break\n",
        "\n",
        "    previous_cost = cost_value  # Cập nhật chi phí trước cho vòng lặp tiếp theo\n",
        "\n",
        "print(\"Theta (parameters):\", theta)"
      ],
      "metadata": {
        "colab": {
          "base_uri": "https://localhost:8080/"
        },
        "id": "8cVZYD8uqrS1",
        "outputId": "b8d2b27e-a20a-4b29-99b1-a81422ae5125"
      },
      "execution_count": null,
      "outputs": [
        {
          "output_type": "stream",
          "name": "stdout",
          "text": [
            "Iteration 1: Cost = 0.22641867583493125\n",
            "Iteration 11: Cost = 0.18864786019986504\n",
            "Iteration 21: Cost = 0.16086721400352116\n",
            "Iteration 31: Cost = 0.14036964000832938\n",
            "Iteration 41: Cost = 0.12518249332028233\n",
            "Iteration 51: Cost = 0.1138683064132799\n",
            "Iteration 61: Cost = 0.10537958256755854\n",
            "Iteration 71: Cost = 0.09895298757062407\n",
            "Iteration 81: Cost = 0.09403224991866047\n",
            "Iteration 91: Cost = 0.09021198016384682\n",
            "Iteration 101: Cost = 0.0871967335053077\n",
            "Iteration 111: Cost = 0.08477117973973516\n",
            "Iteration 121: Cost = 0.08277836685944376\n",
            "Iteration 131: Cost = 0.08110388228328255\n",
            "Iteration 141: Cost = 0.07966431154107817\n",
            "Iteration 151: Cost = 0.07839882840210075\n",
            "Iteration 161: Cost = 0.0772630668064182\n",
            "Iteration 171: Cost = 0.07622465548750197\n",
            "Iteration 181: Cost = 0.07525996415535857\n",
            "Iteration 191: Cost = 0.0743517325128312\n",
            "Iteration 201: Cost = 0.07348734256990123\n",
            "Iteration 211: Cost = 0.07265755971287145\n",
            "Iteration 221: Cost = 0.0718556153433475\n",
            "Iteration 231: Cost = 0.07107653841051763\n",
            "Iteration 241: Cost = 0.07031666830574551\n",
            "Iteration 251: Cost = 0.0695732999113828\n",
            "Iteration 261: Cost = 0.06884442494712646\n",
            "Iteration 271: Cost = 0.0681285434860818\n",
            "Iteration 281: Cost = 0.06742452660184425\n",
            "Iteration 291: Cost = 0.06673151627359625\n",
            "Iteration 301: Cost = 0.06604885244031534\n",
            "Iteration 311: Cost = 0.06537601983799285\n",
            "Iteration 321: Cost = 0.06471260925237286\n",
            "Iteration 331: Cost = 0.06405828927605672\n",
            "Iteration 341: Cost = 0.06341278572001276\n",
            "Iteration 351: Cost = 0.06277586660279616\n",
            "Iteration 361: Cost = 0.06214733120424217\n",
            "Iteration 371: Cost = 0.06152700208097423\n",
            "Iteration 381: Cost = 0.06091471924024467\n",
            "Iteration 391: Cost = 0.060310335886630546\n",
            "Iteration 401: Cost = 0.05971371531495812\n",
            "Iteration 411: Cost = 0.05912472863858398\n",
            "Iteration 421: Cost = 0.05854325312650458\n",
            "Iteration 431: Cost = 0.05796917098422811\n",
            "Iteration 441: Cost = 0.05740236845812627\n",
            "Iteration 451: Cost = 0.05684273517561797\n",
            "Iteration 461: Cost = 0.056290163657315456\n",
            "Iteration 471: Cost = 0.05574454895459144\n",
            "Iteration 481: Cost = 0.055205788378651234\n",
            "Iteration 491: Cost = 0.05467378129639494\n",
            "Iteration 501: Cost = 0.05414842897505773\n",
            "Iteration 511: Cost = 0.05362963446250266\n",
            "Iteration 521: Cost = 0.053117302493598986\n",
            "Iteration 531: Cost = 0.052611339415713616\n",
            "Iteration 541: Cost = 0.05211165312823284\n",
            "Iteration 551: Cost = 0.05161815303240955\n",
            "Iteration 561: Cost = 0.05113074998883395\n",
            "Iteration 571: Cost = 0.05064935628055769\n",
            "Iteration 581: Cost = 0.050173885580434105\n",
            "Iteration 591: Cost = 0.049704252921625856\n",
            "Iteration 601: Cost = 0.04924037467051357\n",
            "Iteration 611: Cost = 0.04878216850144644\n",
            "Iteration 621: Cost = 0.048329553372925035\n",
            "Iteration 631: Cost = 0.04788244950491679\n",
            "Iteration 641: Cost = 0.047440778357084226\n",
            "Iteration 651: Cost = 0.04700446260776403\n",
            "Iteration 661: Cost = 0.04657342613357832\n",
            "Iteration 671: Cost = 0.046147593989589016\n",
            "Iteration 681: Cost = 0.04572689238993029\n",
            "Iteration 691: Cost = 0.04531124868886947\n",
            "Iteration 701: Cost = 0.04490059136225938\n",
            "Iteration 711: Cost = 0.044494849989353664\n",
            "Iteration 721: Cost = 0.044093955234962914\n",
            "Iteration 731: Cost = 0.043697838831934725\n",
            "Iteration 741: Cost = 0.04330643356394326\n",
            "Iteration 751: Cost = 0.04291967324857767\n",
            "Iteration 761: Cost = 0.042537492720719196\n",
            "Iteration 771: Cost = 0.04215982781619968\n",
            "Iteration 781: Cost = 0.041786615355733636\n",
            "Iteration 791: Cost = 0.04141779312911817\n",
            "Iteration 801: Cost = 0.04105329987969503\n",
            "Iteration 811: Cost = 0.04069307528906901\n",
            "Iteration 821: Cost = 0.04033705996207857\n",
            "Iteration 831: Cost = 0.03998519541201324\n",
            "Iteration 841: Cost = 0.03963742404607393\n",
            "Iteration 851: Cost = 0.039293689151071565\n",
            "Iteration 861: Cost = 0.038953934879360136\n",
            "Iteration 871: Cost = 0.03861810623499982\n",
            "Iteration 881: Cost = 0.038286149060146685\n",
            "Iteration 891: Cost = 0.03795801002166488\n",
            "Iteration 901: Cost = 0.03763363659795755\n",
            "Iteration 911: Cost = 0.03731297706601313\n",
            "Iteration 921: Cost = 0.036995980488663024\n",
            "Iteration 931: Cost = 0.036682596702047404\n",
            "Iteration 941: Cost = 0.03637277630328583\n",
            "Iteration 951: Cost = 0.03606647063834882\n",
            "Iteration 961: Cost = 0.03576363179012746\n",
            "Iteration 971: Cost = 0.03546421256669768\n",
            "Iteration 981: Cost = 0.03516816648977577\n",
            "Iteration 991: Cost = 0.0348754477833624\n",
            "Theta (parameters): [ 1.25203825e-01  1.65596423e-01 -1.93580823e-04  1.23810215e+00]\n"
          ]
        }
      ]
    },
    {
      "cell_type": "code",
      "source": [
        "print(theta)"
      ],
      "metadata": {
        "colab": {
          "base_uri": "https://localhost:8080/"
        },
        "id": "H97Fuk3Tt1PH",
        "outputId": "a0714b9f-776c-4bdc-c28a-65bb75ada707"
      },
      "execution_count": null,
      "outputs": [
        {
          "output_type": "stream",
          "name": "stdout",
          "text": [
            "[ 1.25203825e-01  1.65596423e-01 -1.93580823e-04  1.23810215e+00]\n"
          ]
        }
      ]
    },
    {
      "cell_type": "code",
      "source": [
        "import numpy as np\n",
        "import matplotlib.pyplot as plt\n",
        "\n",
        "# Giả sử bạn đã có X, Y và theta\n",
        "# Tính y_hat (dự đoán) từ tất cả các biến độc lập\n",
        "y_hat = np.dot(X, theta)\n",
        "\n",
        "# Tạo biểu đồ so sánh giá trị Sales thực tế và dự đoán\n",
        "plt.figure(figsize=(12, 6))\n",
        "\n",
        "# Vẽ điểm dữ liệu thực tế\n",
        "plt.scatter(np.arange(len(Y)), Y, color='blue', label='Dữ liệu thực tế')\n",
        "\n",
        "# Vẽ đường dự đoán\n",
        "plt.plot(np.arange(len(y_hat)), y_hat, color='red', label='Dự đoán')\n",
        "\n",
        "# Thêm tiêu đề và nhãn\n",
        "plt.title('So sánh Giá trị Dự đoán với Giá trị Thực tế của Sales')\n",
        "plt.xlabel('Chỉ số (Index)')\n",
        "plt.ylabel('Sales')\n",
        "\n",
        "# Thêm lưới\n",
        "plt.grid(True, linestyle='--', alpha=0.7)\n",
        "\n",
        "# Hiển thị legend\n",
        "plt.legend()\n",
        "\n",
        "# Hiển thị biểu đồ\n",
        "plt.tight_layout()\n",
        "plt.show()\n",
        "\n"
      ],
      "metadata": {
        "colab": {
          "base_uri": "https://localhost:8080/",
          "height": 413
        },
        "id": "GiS7U8I5s0U-",
        "outputId": "99c7c373-21ba-42a3-9329-b8bb530e00b4"
      },
      "execution_count": null,
      "outputs": [
        {
          "output_type": "display_data",
          "data": {
            "text/plain": [
              "<Figure size 1200x600 with 1 Axes>"
            ],
            "image/png": "[encoded data removed]"
          },
          "metadata": {}
        }
      ]
    }
  ]
}